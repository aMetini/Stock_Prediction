{
 "cells": [
  {
   "cell_type": "code",
   "execution_count": 17,
   "metadata": {},
   "outputs": [],
   "source": [
    "import pandas as pd\n"
   ]
  },
  {
   "cell_type": "code",
   "execution_count": 18,
   "metadata": {},
   "outputs": [],
   "source": [
    "amba = pd.read_csv('./data/AMBA.csv')"
   ]
  },
  {
   "cell_type": "code",
   "execution_count": 19,
   "metadata": {},
   "outputs": [
    {
     "name": "stdout",
     "output_type": "stream",
     "text": [
      "(2853, 7)\n"
     ]
    }
   ],
   "source": [
    "print(amba.shape)"
   ]
  },
  {
   "cell_type": "code",
   "execution_count": 22,
   "metadata": {},
   "outputs": [
    {
     "data": {
      "text/html": [
       "<div>\n",
       "<style scoped>\n",
       "    .dataframe tbody tr th:only-of-type {\n",
       "        vertical-align: middle;\n",
       "    }\n",
       "\n",
       "    .dataframe tbody tr th {\n",
       "        vertical-align: top;\n",
       "    }\n",
       "\n",
       "    .dataframe thead th {\n",
       "        text-align: right;\n",
       "    }\n",
       "</style>\n",
       "<table border=\"1\" class=\"dataframe\">\n",
       "  <thead>\n",
       "    <tr style=\"text-align: right;\">\n",
       "      <th></th>\n",
       "      <th>Date</th>\n",
       "      <th>Open</th>\n",
       "      <th>High</th>\n",
       "      <th>Low</th>\n",
       "      <th>Close</th>\n",
       "      <th>Adj Close</th>\n",
       "      <th>Volume</th>\n",
       "    </tr>\n",
       "  </thead>\n",
       "  <tbody>\n",
       "    <tr>\n",
       "      <th>0</th>\n",
       "      <td>2012-10-11</td>\n",
       "      <td>6.06</td>\n",
       "      <td>6.44</td>\n",
       "      <td>6.00</td>\n",
       "      <td>6.08</td>\n",
       "      <td>6.08</td>\n",
       "      <td>416700</td>\n",
       "    </tr>\n",
       "    <tr>\n",
       "      <th>1</th>\n",
       "      <td>2012-10-12</td>\n",
       "      <td>6.05</td>\n",
       "      <td>6.30</td>\n",
       "      <td>6.01</td>\n",
       "      <td>6.23</td>\n",
       "      <td>6.23</td>\n",
       "      <td>155200</td>\n",
       "    </tr>\n",
       "    <tr>\n",
       "      <th>2</th>\n",
       "      <td>2012-10-15</td>\n",
       "      <td>6.35</td>\n",
       "      <td>6.40</td>\n",
       "      <td>6.05</td>\n",
       "      <td>6.15</td>\n",
       "      <td>6.15</td>\n",
       "      <td>156700</td>\n",
       "    </tr>\n",
       "    <tr>\n",
       "      <th>3</th>\n",
       "      <td>2012-10-16</td>\n",
       "      <td>6.15</td>\n",
       "      <td>6.30</td>\n",
       "      <td>5.94</td>\n",
       "      <td>6.01</td>\n",
       "      <td>6.01</td>\n",
       "      <td>173000</td>\n",
       "    </tr>\n",
       "    <tr>\n",
       "      <th>4</th>\n",
       "      <td>2012-10-17</td>\n",
       "      <td>6.00</td>\n",
       "      <td>6.08</td>\n",
       "      <td>5.99</td>\n",
       "      <td>6.00</td>\n",
       "      <td>6.00</td>\n",
       "      <td>113600</td>\n",
       "    </tr>\n",
       "  </tbody>\n",
       "</table>\n",
       "</div>"
      ],
      "text/plain": [
       "         Date  Open  High   Low  Close  Adj Close  Volume\n",
       "0  2012-10-11  6.06  6.44  6.00   6.08       6.08  416700\n",
       "1  2012-10-12  6.05  6.30  6.01   6.23       6.23  155200\n",
       "2  2012-10-15  6.35  6.40  6.05   6.15       6.15  156700\n",
       "3  2012-10-16  6.15  6.30  5.94   6.01       6.01  173000\n",
       "4  2012-10-17  6.00  6.08  5.99   6.00       6.00  113600"
      ]
     },
     "execution_count": 22,
     "metadata": {},
     "output_type": "execute_result"
    }
   ],
   "source": [
    "amba.head()"
   ]
  },
  {
   "cell_type": "code",
   "execution_count": 21,
   "metadata": {},
   "outputs": [
    {
     "data": {
      "text/html": [
       "<div>\n",
       "<style scoped>\n",
       "    .dataframe tbody tr th:only-of-type {\n",
       "        vertical-align: middle;\n",
       "    }\n",
       "\n",
       "    .dataframe tbody tr th {\n",
       "        vertical-align: top;\n",
       "    }\n",
       "\n",
       "    .dataframe thead th {\n",
       "        text-align: right;\n",
       "    }\n",
       "</style>\n",
       "<table border=\"1\" class=\"dataframe\">\n",
       "  <thead>\n",
       "    <tr style=\"text-align: right;\">\n",
       "      <th></th>\n",
       "      <th>Open</th>\n",
       "      <th>High</th>\n",
       "      <th>Low</th>\n",
       "      <th>Close</th>\n",
       "      <th>Adj Close</th>\n",
       "      <th>Volume</th>\n",
       "    </tr>\n",
       "  </thead>\n",
       "  <tbody>\n",
       "    <tr>\n",
       "      <th>count</th>\n",
       "      <td>2853.000000</td>\n",
       "      <td>2853.000000</td>\n",
       "      <td>2853.000000</td>\n",
       "      <td>2853.000000</td>\n",
       "      <td>2853.000000</td>\n",
       "      <td>2.853000e+03</td>\n",
       "    </tr>\n",
       "    <tr>\n",
       "      <th>mean</th>\n",
       "      <td>59.399888</td>\n",
       "      <td>60.739012</td>\n",
       "      <td>58.063505</td>\n",
       "      <td>59.403645</td>\n",
       "      <td>59.403645</td>\n",
       "      <td>1.004999e+06</td>\n",
       "    </tr>\n",
       "    <tr>\n",
       "      <th>std</th>\n",
       "      <td>33.523402</td>\n",
       "      <td>34.412228</td>\n",
       "      <td>32.559028</td>\n",
       "      <td>33.471636</td>\n",
       "      <td>33.471636</td>\n",
       "      <td>1.204699e+06</td>\n",
       "    </tr>\n",
       "    <tr>\n",
       "      <th>min</th>\n",
       "      <td>6.000000</td>\n",
       "      <td>6.080000</td>\n",
       "      <td>5.550000</td>\n",
       "      <td>6.000000</td>\n",
       "      <td>6.000000</td>\n",
       "      <td>1.890000e+04</td>\n",
       "    </tr>\n",
       "    <tr>\n",
       "      <th>25%</th>\n",
       "      <td>40.040001</td>\n",
       "      <td>40.990002</td>\n",
       "      <td>39.150002</td>\n",
       "      <td>40.090000</td>\n",
       "      <td>40.090000</td>\n",
       "      <td>4.201000e+05</td>\n",
       "    </tr>\n",
       "    <tr>\n",
       "      <th>50%</th>\n",
       "      <td>53.720001</td>\n",
       "      <td>54.740002</td>\n",
       "      <td>52.680000</td>\n",
       "      <td>53.680000</td>\n",
       "      <td>53.680000</td>\n",
       "      <td>6.554000e+05</td>\n",
       "    </tr>\n",
       "    <tr>\n",
       "      <th>75%</th>\n",
       "      <td>70.199997</td>\n",
       "      <td>72.059998</td>\n",
       "      <td>68.570000</td>\n",
       "      <td>70.190002</td>\n",
       "      <td>70.190002</td>\n",
       "      <td>1.116200e+06</td>\n",
       "    </tr>\n",
       "    <tr>\n",
       "      <th>max</th>\n",
       "      <td>216.660004</td>\n",
       "      <td>227.589996</td>\n",
       "      <td>209.050003</td>\n",
       "      <td>216.839996</td>\n",
       "      <td>216.839996</td>\n",
       "      <td>2.507260e+07</td>\n",
       "    </tr>\n",
       "  </tbody>\n",
       "</table>\n",
       "</div>"
      ],
      "text/plain": [
       "              Open         High          Low        Close    Adj Close  \\\n",
       "count  2853.000000  2853.000000  2853.000000  2853.000000  2853.000000   \n",
       "mean     59.399888    60.739012    58.063505    59.403645    59.403645   \n",
       "std      33.523402    34.412228    32.559028    33.471636    33.471636   \n",
       "min       6.000000     6.080000     5.550000     6.000000     6.000000   \n",
       "25%      40.040001    40.990002    39.150002    40.090000    40.090000   \n",
       "50%      53.720001    54.740002    52.680000    53.680000    53.680000   \n",
       "75%      70.199997    72.059998    68.570000    70.190002    70.190002   \n",
       "max     216.660004   227.589996   209.050003   216.839996   216.839996   \n",
       "\n",
       "             Volume  \n",
       "count  2.853000e+03  \n",
       "mean   1.004999e+06  \n",
       "std    1.204699e+06  \n",
       "min    1.890000e+04  \n",
       "25%    4.201000e+05  \n",
       "50%    6.554000e+05  \n",
       "75%    1.116200e+06  \n",
       "max    2.507260e+07  "
      ]
     },
     "execution_count": 21,
     "metadata": {},
     "output_type": "execute_result"
    }
   ],
   "source": [
    "amba.describe()"
   ]
  },
  {
   "cell_type": "markdown",
   "metadata": {},
   "source": [
    "The min open/close price of AMBA is 6.00000\n",
    "The max open/close price of AMBA is 216.660004 and 216.839996 respectively"
   ]
  },
  {
   "cell_type": "code",
   "execution_count": 23,
   "metadata": {},
   "outputs": [
    {
     "name": "stdout",
     "output_type": "stream",
     "text": [
      "<class 'pandas.core.frame.DataFrame'>\n",
      "RangeIndex: 2853 entries, 0 to 2852\n",
      "Data columns (total 7 columns):\n",
      " #   Column     Non-Null Count  Dtype  \n",
      "---  ------     --------------  -----  \n",
      " 0   Date       2853 non-null   object \n",
      " 1   Open       2853 non-null   float64\n",
      " 2   High       2853 non-null   float64\n",
      " 3   Low        2853 non-null   float64\n",
      " 4   Close      2853 non-null   float64\n",
      " 5   Adj Close  2853 non-null   float64\n",
      " 6   Volume     2853 non-null   int64  \n",
      "dtypes: float64(5), int64(1), object(1)\n",
      "memory usage: 156.2+ KB\n"
     ]
    }
   ],
   "source": [
    "amba.info()"
   ]
  }
 ],
 "metadata": {
  "kernelspec": {
   "display_name": "Python 3",
   "language": "python",
   "name": "python3"
  },
  "language_info": {
   "codemirror_mode": {
    "name": "ipython",
    "version": 3
   },
   "file_extension": ".py",
   "mimetype": "text/x-python",
   "name": "python",
   "nbconvert_exporter": "python",
   "pygments_lexer": "ipython3",
   "version": "3.11.4"
  }
 },
 "nbformat": 4,
 "nbformat_minor": 2
}
